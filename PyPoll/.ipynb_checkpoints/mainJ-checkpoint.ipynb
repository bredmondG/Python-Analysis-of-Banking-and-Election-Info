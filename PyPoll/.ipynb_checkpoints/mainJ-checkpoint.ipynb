{
 "cells": [
  {
   "cell_type": "code",
   "execution_count": 52,
   "metadata": {},
   "outputs": [],
   "source": [
    "import csv\n",
    "\n",
    "from tqdm import tqdm\n"
   ]
  },
  {
   "cell_type": "code",
   "execution_count": 53,
   "metadata": {},
   "outputs": [
    {
     "name": "stdout",
     "output_type": "stream",
     "text": [
      "None\n"
     ]
    }
   ],
   "source": [
    "row_count = 0\n",
    "candidates = {}\n",
    "\n",
    "print(candidates.get(\"Hildog\"))"
   ]
  },
  {
   "cell_type": "code",
   "execution_count": 54,
   "metadata": {},
   "outputs": [],
   "source": [
    "def candidate_count(row):\n",
    "    if  candidates.get(row[2]) == None:\n",
    "        candidates[row[2]] = 1\n",
    "    else:\n",
    "        candidates[row[2]] += 1\n",
    "    "
   ]
  },
  {
   "cell_type": "code",
   "execution_count": 55,
   "metadata": {},
   "outputs": [],
   "source": [
    "with open(\"/Users/brendangold/DENVDEN201905DATA4/Homework/3 Python  6-18/PyPoll/Resources/election_data.csv\", \"r\") as f:\n",
    "    reader = csv.reader(f)\n",
    "    \n",
    "    next(reader)\n",
    "    \n",
    "    for row in reader:\n",
    "        candidate_count(row)\n",
    "        row_count += 1\n",
    "        \n",
    "        \n",
    "        \n",
    "        "
   ]
  },
  {
   "cell_type": "code",
   "execution_count": 116,
   "metadata": {},
   "outputs": [],
   "source": [
    "def winner():\n",
    "    value = max(list(candidates.values()))\n",
    "    for key, val in candidates.items():\n",
    "        if val == value:\n",
    "            return(key, val)\n",
    "    "
   ]
  },
  {
   "cell_type": "code",
   "execution_count": 117,
   "metadata": {},
   "outputs": [
    {
     "name": "stdout",
     "output_type": "stream",
     "text": [
      "Total Votes: 3521001\n",
      "Khan : 2218231 63 %\n",
      "Correy : 704200 20 %\n",
      "Li : 492940 14 %\n",
      "O'Tooley : 105630 3 %\n",
      "Winner: ('Khan', 2218231)\n"
     ]
    }
   ],
   "source": [
    "print(\"Total Votes:\", row_count)\n",
    "for key, val in candidates.items():\n",
    "    print(key, \":\", val, (round(val / row_count * 100)), \"%\")\n",
    "print(\"Winner:\", winner())\n",
    "# for c in candidates.keys():\n",
    "#     print(round((candidates[c] / row_count) * 100))"
   ]
  },
  {
   "cell_type": "code",
   "execution_count": null,
   "metadata": {},
   "outputs": [],
   "source": []
  }
 ],
 "metadata": {
  "kernelspec": {
   "display_name": "Python 3",
   "language": "python",
   "name": "python3"
  },
  "language_info": {
   "codemirror_mode": {
    "name": "ipython",
    "version": 3
   },
   "file_extension": ".py",
   "mimetype": "text/x-python",
   "name": "python",
   "nbconvert_exporter": "python",
   "pygments_lexer": "ipython3",
   "version": "3.7.1"
  }
 },
 "nbformat": 4,
 "nbformat_minor": 2
}
