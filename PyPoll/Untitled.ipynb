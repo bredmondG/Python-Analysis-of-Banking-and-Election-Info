{
 "cells": [
  {
   "cell_type": "code",
   "execution_count": 4,
   "metadata": {},
   "outputs": [],
   "source": [
    "import csv\n",
    "\n",
    "from tqdm import tqdm\n"
   ]
  },
  {
   "cell_type": "code",
   "execution_count": 6,
   "metadata": {},
   "outputs": [
    {
     "name": "stdout",
     "output_type": "stream",
     "text": [
      "['12864552', 'Marsh', 'Khan']\n"
     ]
    }
   ],
   "source": [
    "with open(\"/Users/brendangold/DENVDEN201905DATA4/Homework/3 Python  6-18/PyPoll/Resources/election_data.csv\", \"r\") as f:\n",
    "    reader = csv.reader(f)\n",
    "    \n",
    "    next(reader)\n",
    "    for row in reader:\n",
    "        print(row)\n",
    "        break\n",
    "        "
   ]
  },
  {
   "cell_type": "code",
   "execution_count": null,
   "metadata": {},
   "outputs": [],
   "source": []
  }
 ],
 "metadata": {
  "kernelspec": {
   "display_name": "Python 3",
   "language": "python",
   "name": "python3"
  },
  "language_info": {
   "codemirror_mode": {
    "name": "ipython",
    "version": 3
   },
   "file_extension": ".py",
   "mimetype": "text/x-python",
   "name": "python",
   "nbconvert_exporter": "python",
   "pygments_lexer": "ipython3",
   "version": "3.7.1"
  }
 },
 "nbformat": 4,
 "nbformat_minor": 2
}
